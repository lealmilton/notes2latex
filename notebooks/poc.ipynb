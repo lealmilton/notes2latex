{
   "cells": [
      {
         "cell_type": "code",
         "execution_count": 1,
         "metadata": {},
         "outputs": [],
         "source": [
            "import sys\n",
            "sys.path.append(\"..\")\n",
            "import os\n",
            "\n",
            "from src.image_processing.image_utils import convert_pdf_to_png\n",
            "from src.image_processing.ocr import process_png_images\n",
            "from src.text_processing.text_utils import concatenate_text_files, count_tokens, read_file, save_to_file\n",
            "from src.text_processing.reasoning import gpt4_completion\n",
            "from src.pdf_generation.pdf_creator import convert_md_to_pdf\n",
            "from src.utils.prompts import PROMPT_MD, PROMPT_CHECK_LATEX\n",
            "\n",
            "api_key = os.getenv('OPENAI_API_KEY')"
         ]
      },
      {
         "cell_type": "markdown",
         "metadata": {},
         "source": [
            "# Turn PDF into separate pngs (one per pdf page)"
         ]
      },
      {
         "cell_type": "code",
         "execution_count": 10,
         "metadata": {},
         "outputs": [],
         "source": [
            "pdf_path = '../data/notes/aula13.pdf'  # Replace with your PDF file path\n",
            "poppler_path = r'../venv/poppler-23.11.0/Library/bin'  # Specify your Poppler bin path\n",
            "\n",
            "convert_pdf_to_png(pdf_path, poppler_path)"
         ]
      },
      {
         "cell_type": "markdown",
         "metadata": {},
         "source": [
            "# Extract text from image"
         ]
      },
      {
         "cell_type": "code",
         "execution_count": 11,
         "metadata": {},
         "outputs": [
            {
               "name": "stdout",
               "output_type": "stream",
               "text": [
                  "../data/processed/aula13/pngs/1.png\n",
                  "Processed and saved OCR text for: 1.png\n",
                  "../data/processed/aula13/pngs/2.png\n",
                  "Processed and saved OCR text for: 2.png\n"
               ]
            }
         ],
         "source": [
            "png_folder_path = \"../data/processed/aula13/pngs/\"\n",
            "ocr_text_folder = \"../data/processed/aula13/ocr_text/\"\n",
            "\n",
            "process_png_images(png_folder_path, ocr_text_folder)"
         ]
      },
      {
         "cell_type": "markdown",
         "metadata": {},
         "source": [
            "# Concatenate descriptions"
         ]
      },
      {
         "cell_type": "code",
         "execution_count": 12,
         "metadata": {},
         "outputs": [
            {
               "name": "stdout",
               "output_type": "stream",
               "text": [
                  "All text files have been concatenated into '../data/processed/aula13/combined_text.txt'.\n"
               ]
            }
         ],
         "source": [
            "ocr_text_folder = \"../data/processed/aula13/ocr_text\"\n",
            "output_file_path = \"../data/processed/aula13/combined_text.txt\"\n",
            "\n",
            "concatenate_text_files(ocr_text_folder, output_file_path)\n"
         ]
      },
      {
         "cell_type": "markdown",
         "metadata": {},
         "source": [
            "# Create Markdown"
         ]
      },
      {
         "cell_type": "code",
         "execution_count": 3,
         "metadata": {},
         "outputs": [
            {
               "name": "stdout",
               "output_type": "stream",
               "text": [
                  "TOTAL TOKENS: 874\n",
                  "Formatted notes saved to ../data/processed/aula13/formatted_notes.tex\n"
               ]
            }
         ],
         "source": [
            "token_threshold = 3500  # Adjust as needed\n",
            "\n",
            "# File paths\n",
            "input_file_path = \"../data/processed/aula13/combined_text.txt\"\n",
            "output_file_path = \"../data/processed/aula13/formatted_notes.tex\"\n",
            "\n",
            "file_content = read_file(input_file_path)\n",
            "total_tokens = count_tokens(file_content)\n",
            "print(\"TOTAL TOKENS:\", total_tokens)\n",
            "\n",
            "# Check size\n",
            "if total_tokens <= token_threshold:\n",
            "    # Process in one go\n",
            "    response = gpt4_completion(\"\", file_content, PROMPT_MD)\n",
            "else:\n",
            "    print(\"File is too large. Try with a smaller one.\")\n",
            "\n",
            "save_to_file(output_file_path, response)\n",
            "print(f\"Formatted notes saved to {output_file_path}\")"
         ]
      },
      {
         "cell_type": "markdown",
         "metadata": {},
         "source": [
            "# Turn MarkDown into PDF"
         ]
      },
      {
         "cell_type": "code",
         "execution_count": 5,
         "metadata": {},
         "outputs": [],
         "source": [
            "# foo"
         ]
      },
      {
         "cell_type": "markdown",
         "metadata": {},
         "source": [
            "# Check LaTeX\n",
            "\n",
            "Use GPT-4 to check LaTeX syntax"
         ]
      },
      {
         "cell_type": "code",
         "execution_count": 15,
         "metadata": {},
         "outputs": [
            {
               "name": "stdout",
               "output_type": "stream",
               "text": [
                  "Formatted notes saved to ../data/processed/aula13/formatted_notes.md\n"
               ]
            }
         ],
         "source": [
            "input_file_path = \"../data/processed/aula13/formatted_notes.md\"\n",
            "output_file_path = \"../data/processed/aula13/formatted_notes.md\"\n",
            "\n",
            "# Read and measure the text\n",
            "file_content = read_file(input_file_path)\n",
            "\n",
            "response = gpt4_completion(\"\", file_content, PROMPT_CHECK_LATEX)\n",
            "\n",
            "# Save the response\n",
            "save_to_file(output_file_path, response)\n",
            "print(f\"Formatted notes saved to {output_file_path}\")"
         ]
      },
      {
         "cell_type": "markdown",
         "metadata": {},
         "source": [
            "# Turn MarkDown into PDF"
         ]
      },
      {
         "cell_type": "code",
         "execution_count": 16,
         "metadata": {},
         "outputs": [
            {
               "name": "stdout",
               "output_type": "stream",
               "text": [
                  "An error occurred: Pandoc died with exitcode \"43\" during conversion: pdflatex: major issue: So far, you have not checked for MiKTeX updates.\n",
                  "pdflatex: major issue: So far, you have not checked for MiKTeX updates.\n",
                  "Error producing PDF.\n",
                  "! Package amsmath Error: \\dot allowed only in math mode.\n",
                  "\n",
                  "See the amsmath package documentation for explanation.\n",
                  "Type  H <return>  for immediate help.\n",
                  " ...                                              \n",
                  "                                                  \n",
                  "l.62 A system {[} \\dot{x}\n",
                  "\n",
                  "\n"
               ]
            }
         ],
         "source": [
            "input_md_file = \"../data/processed/aula13/formatted_notes.md\"\n",
            "output_pdf_file = \"../data/processed/aula13/formatted_notes.pdf\"\n",
            "\n",
            "convert_md_to_pdf(input_md_file, output_pdf_file)"
         ]
      },
      {
         "cell_type": "code",
         "execution_count": null,
         "metadata": {},
         "outputs": [],
         "source": []
      }
   ],
   "metadata": {
      "kernelspec": {
         "display_name": "base",
         "language": "python",
         "name": "python3"
      },
      "language_info": {
         "codemirror_mode": {
            "name": "ipython",
            "version": 3
         },
         "file_extension": ".py",
         "mimetype": "text/x-python",
         "name": "python",
         "nbconvert_exporter": "python",
         "pygments_lexer": "ipython3",
         "version": "3.11.5"
      }
   },
   "nbformat": 4,
   "nbformat_minor": 2
}