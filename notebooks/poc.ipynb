{
   "cells": [
      {
         "cell_type": "code",
         "execution_count": 3,
         "metadata": {},
         "outputs": [],
         "source": [
            "import sys\n",
            "sys.path.append(\"..\")\n",
            "import os\n",
            "\n",
            "from src.image_processing.image_utils import convert_pdf_to_png\n",
            "from src.image_processing.ocr import process_png_images\n",
            "from src.text_processing.text_utils import concatenate_text_files\n",
            "from src.text_processing.reasoning import create_tex\n",
            "from src.pdf_generation.pdf_creator import output_pdf\n",
            "\n",
            "api_key = os.getenv('OPENAI_API_KEY')"
         ]
      },
      {
         "cell_type": "code",
         "execution_count": 4,
         "metadata": {},
         "outputs": [],
         "source": [
            "# SET THE NAME OF THE FILE\n",
            "file_name = \"aula13\""
         ]
      },
      {
         "cell_type": "code",
         "execution_count": 5,
         "metadata": {},
         "outputs": [
            {
               "name": "stdout",
               "output_type": "stream",
               "text": [
                  "../data/processed\\aula13\\pngs\\1.png\n",
                  "Processed and saved OCR text for: 1.png\n",
                  "../data/processed\\aula13\\pngs\\2.png\n",
                  "Processed and saved OCR text for: 2.png\n",
                  "All text files have been concatenated into '../data/processed\\aula13\\combined_text.txt'.\n",
                  "TOTAL TOKENS: 623\n",
                  "Formatted notes saved to ../data/processed\\aula13\\formatted_notes.tex\n"
               ]
            },
            {
               "name": "stderr",
               "output_type": "stream",
               "text": [
                  "[WARNING] Unusual conversion: to convert a .tex file to PDF, you get better results by using pdflatex (or lualatex or xelatex) directly, try `pdflatex ../data/processed\\aula13\\formatted_notes.tex` instead of `pandoc ../data/processed\\aula13\\formatted_notes.tex -o ../data/processed\\aula13\\formatted_notes.pdf`.\n",
                  "pdflatex: major issue: So far, you have not checked for MiKTeX updates.\n",
                  "pdflatex: major issue: So far, you have not checked for MiKTeX updates.\n",
                  "\n"
               ]
            },
            {
               "name": "stdout",
               "output_type": "stream",
               "text": [
                  "PDF successfully created at ../data/processed\\aula13\\formatted_notes.pdf\n",
                  "PDF generated successfully.\n"
               ]
            }
         ],
         "source": [
            "# Turn PDF into separate PNGs\n",
            "convert_pdf_to_png(file_name)\n",
            "\n",
            "# Extract text from image\n",
            "process_png_images(file_name)\n",
            "\n",
            "# Concatenate descriptions\n",
            "concatenate_text_files(file_name)\n",
            "\n",
            "# Create tex file\n",
            "create_tex(file_name)\n",
            "\n",
            "# Output PDF\n",
            "output_pdf(file_name)"
         ]
      }
   ],
   "metadata": {
      "kernelspec": {
         "display_name": "base",
         "language": "python",
         "name": "python3"
      },
      "language_info": {
         "codemirror_mode": {
            "name": "ipython",
            "version": 3
         },
         "file_extension": ".py",
         "mimetype": "text/x-python",
         "name": "python",
         "nbconvert_exporter": "python",
         "pygments_lexer": "ipython3",
         "version": "3.11.5"
      }
   },
   "nbformat": 4,
   "nbformat_minor": 2
}
